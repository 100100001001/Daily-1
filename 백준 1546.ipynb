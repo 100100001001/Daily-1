{
 "cells": [
  {
   "cell_type": "code",
   "execution_count": null,
   "source": [
    "# https://www.acmicpc.net/problem/1546\r\n",
    "\r\n",
    "sub = int(input())\r\n",
    "grade = list(map(int, input().split()))\r\n",
    "lst = [ i / max(grade) * 100 for i in grade ]\r\n",
    "print(sum(lst) / sub)\r\n",
    "\r\n",
    "\r\n",
    "# sub = int(input())\r\n",
    "# grade = list(map(int, input().split()))\r\n",
    "\r\n",
    "# maximum = max(grade)\r\n",
    "\r\n",
    "# lst = []\r\n",
    "# for i in grade:\r\n",
    "#     lst.append(i / maximum * 100)\r\n",
    "\r\n",
    "# print(sum(lst) / sub)"
   ],
   "outputs": [],
   "metadata": {}
  }
 ],
 "metadata": {
  "language_info": {
   "name": "python"
  }
 },
 "nbformat": 4,
 "nbformat_minor": 5
}
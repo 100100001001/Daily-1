{
 "cells": [
  {
   "cell_type": "code",
   "execution_count": 5,
   "id": "ce8226d4-1fb8-428c-8c27-dc19121d2c3e",
   "metadata": {},
   "outputs": [
    {
     "name": "stdin",
     "output_type": "stream",
     "text": [
      " 4\n",
      " OTAKU LIFE\n"
     ]
    },
    {
     "name": "stdout",
     "output_type": "stream",
     "text": [
      "PERFECT LIFE\n"
     ]
    },
    {
     "name": "stdin",
     "output_type": "stream",
     "text": [
      " PRODUCER\n"
     ]
    },
    {
     "name": "stdout",
     "output_type": "stream",
     "text": [
      "PERFECT LIFE\n"
     ]
    },
    {
     "name": "stdin",
     "output_type": "stream",
     "text": [
      " GAMING LIFE\n"
     ]
    },
    {
     "name": "stdout",
     "output_type": "stream",
     "text": [
      "83\n"
     ]
    },
    {
     "name": "stdin",
     "output_type": "stream",
     "text": [
      " PROGRAMMING\n"
     ]
    },
    {
     "name": "stdout",
     "output_type": "stream",
     "text": [
      "131\n"
     ]
    }
   ],
   "source": [
    "# 15351 인생 점수 https://www.acmicpc.net/problem/15351\n",
    "\n",
    "n = int(input())\n",
    "alp = 'ABCDEFGHIJKLMNOPQRSTUVWXYZ'\n",
    "\n",
    "for _ in range(n):\n",
    "    enjoy = input() \n",
    "    res = 0\n",
    "    \n",
    "    for i in range(26):\n",
    "        if alp[i] in enjoy:\n",
    "            res += (i+1) * enjoy.count(alp[i])\n",
    "            \n",
    "    if res == 100:\n",
    "        print(\"PERFECT LIFE\")\n",
    "    else:\n",
    "        print(res)"
   ]
  },
  {
   "cell_type": "code",
   "execution_count": 6,
   "id": "10327df8-1cf3-4ff8-a078-8cd52e7f42b1",
   "metadata": {},
   "outputs": [
    {
     "data": {
      "text/plain": [
       "'ABCDEFGHIJKLMNOPQRSTUVWXYZ'"
      ]
     },
     "execution_count": 6,
     "metadata": {},
     "output_type": "execute_result"
    }
   ],
   "source": [
    "import string\n",
    "\n",
    "string.ascii_uppercase"
   ]
  }
 ],
 "metadata": {
  "kernelspec": {
   "display_name": "Python 3",
   "language": "python",
   "name": "python3"
  },
  "language_info": {
   "codemirror_mode": {
    "name": "ipython",
    "version": 3
   },
   "file_extension": ".py",
   "mimetype": "text/x-python",
   "name": "python",
   "nbconvert_exporter": "python",
   "pygments_lexer": "ipython3",
   "version": "3.8.8"
  }
 },
 "nbformat": 4,
 "nbformat_minor": 5
}

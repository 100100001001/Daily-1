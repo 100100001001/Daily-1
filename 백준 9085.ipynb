{
 "cells": [
  {
   "cell_type": "code",
   "execution_count": 1,
   "id": "418f49ec-481b-4775-bfbc-23ea3ba2e7d3",
   "metadata": {},
   "outputs": [
    {
     "name": "stdin",
     "output_type": "stream",
     "text": [
      " 2\n",
      " 5\n",
      " 1 1 1 1 1\n"
     ]
    },
    {
     "name": "stdout",
     "output_type": "stream",
     "text": [
      "5\n"
     ]
    },
    {
     "name": "stdin",
     "output_type": "stream",
     "text": [
      " 7\n",
      " 1 2 3 4 5 6 7\n"
     ]
    },
    {
     "name": "stdout",
     "output_type": "stream",
     "text": [
      "28\n"
     ]
    }
   ],
   "source": [
    "# 9085 더하기 https://www.acmicpc.net/problem/9085\n",
    "\n",
    "T = int(input()) # 테스트 케이스의 개수\n",
    "sum_N = 0\n",
    "for i in range(T) :\n",
    "    n = input() # 자연수의 개수\n",
    "    N = map(int, input().split()) # n개의 자연수\n",
    "    for j in N:\n",
    "        sum_N += j\n",
    "    print(sum_N) \n",
    "    sum_N = 0"
   ]
  }
 ],
 "metadata": {
  "kernelspec": {
   "display_name": "Python 3",
   "language": "python",
   "name": "python3"
  },
  "language_info": {
   "codemirror_mode": {
    "name": "ipython",
    "version": 3
   },
   "file_extension": ".py",
   "mimetype": "text/x-python",
   "name": "python",
   "nbconvert_exporter": "python",
   "pygments_lexer": "ipython3",
   "version": "3.8.8"
  }
 },
 "nbformat": 4,
 "nbformat_minor": 5
}

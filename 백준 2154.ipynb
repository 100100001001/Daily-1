{
 "cells": [
  {
   "cell_type": "code",
   "execution_count": 70,
   "id": "36b559d7-715f-4a86-9aad-7e539d009133",
   "metadata": {},
   "outputs": [
    {
     "name": "stdin",
     "output_type": "stream",
     "text": [
      " 142\n"
     ]
    },
    {
     "name": "stdout",
     "output_type": "stream",
     "text": [
      "73\n"
     ]
    }
   ],
   "source": [
    "# 2154 수 이어 쓰기 3 https://www.acmicpc.net/problem/2154\n",
    "\n",
    "n = int(input())\n",
    "string = ''\n",
    "\n",
    "for i in range(1, n+1):\n",
    "    string += str(i)\n",
    "    \n",
    "print(string.index(str(n))+1)"
   ]
  }
 ],
 "metadata": {
  "kernelspec": {
   "display_name": "Python 3",
   "language": "python",
   "name": "python3"
  },
  "language_info": {
   "codemirror_mode": {
    "name": "ipython",
    "version": 3
   },
   "file_extension": ".py",
   "mimetype": "text/x-python",
   "name": "python",
   "nbconvert_exporter": "python",
   "pygments_lexer": "ipython3",
   "version": "3.8.8"
  }
 },
 "nbformat": 4,
 "nbformat_minor": 5
}

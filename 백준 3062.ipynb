{
 "cells": [
  {
   "cell_type": "code",
   "execution_count": 2,
   "id": "c2650ab4-7ac7-4529-9f3b-2cc2957f5628",
   "metadata": {},
   "outputs": [
    {
     "name": "stdin",
     "output_type": "stream",
     "text": [
      " 4\n",
      " 13\n"
     ]
    },
    {
     "name": "stdout",
     "output_type": "stream",
     "text": [
      "YES\n"
     ]
    },
    {
     "name": "stdin",
     "output_type": "stream",
     "text": [
      " 58\n"
     ]
    },
    {
     "name": "stdout",
     "output_type": "stream",
     "text": [
      "NO\n"
     ]
    },
    {
     "name": "stdin",
     "output_type": "stream",
     "text": [
      " 120\n"
     ]
    },
    {
     "name": "stdout",
     "output_type": "stream",
     "text": [
      "YES\n"
     ]
    },
    {
     "name": "stdin",
     "output_type": "stream",
     "text": [
      " 5056\n"
     ]
    },
    {
     "name": "stdout",
     "output_type": "stream",
     "text": [
      "NO\n"
     ]
    }
   ],
   "source": [
    "# 3062 수 뒤집기 https://www.acmicpc.net/problem/3062\n",
    "\n",
    "def rev():\n",
    "    N = input()\n",
    "    sum_n = str(int(N) + int(N[::-1])) # 숫자 N과 뒤집은 N을 더해줌\n",
    "    idx = len(sum_n) // 2 # 중간 자릿수 구하기\n",
    "    if len(sum_n) % 2 == 0: # 짝수라면\n",
    "        rev = sum_n[idx:] # sum_n을 딱 반 잘라줌\n",
    "        if sum_n[:idx] == rev[::-1]: # sum_n 앞부분과 잘라준 뒷 부분 뒤집은 걸 비교\n",
    "            return \"YES\"\n",
    "        return \"NO\"\n",
    "    else:\n",
    "        rev = sum_n[idx+1:]\n",
    "        if sum_n[:idx] == rev[::-1]:\n",
    "            return \"YES\"\n",
    "        return \"NO\"\n",
    "\n",
    "T = int(input()) # 테스트 케이스의 개수\n",
    "for _ in range(T):\n",
    "    print(rev())"
   ]
  },
  {
   "cell_type": "code",
   "execution_count": null,
   "id": "f79b18f8-34f8-4da9-9d79-9ea8a7e810ca",
   "metadata": {},
   "outputs": [],
   "source": []
  }
 ],
 "metadata": {
  "kernelspec": {
   "display_name": "Python 3",
   "language": "python",
   "name": "python3"
  },
  "language_info": {
   "codemirror_mode": {
    "name": "ipython",
    "version": 3
   },
   "file_extension": ".py",
   "mimetype": "text/x-python",
   "name": "python",
   "nbconvert_exporter": "python",
   "pygments_lexer": "ipython3",
   "version": "3.8.8"
  }
 },
 "nbformat": 4,
 "nbformat_minor": 5
}

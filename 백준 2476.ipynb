{
 "cells": [
  {
   "cell_type": "code",
   "execution_count": null,
   "source": [
    "n = int(input())\r\n",
    "prize = []\r\n",
    "\r\n",
    "for _ in range(n):\r\n",
    "    dice = list(map(int, input().split()))\r\n",
    "\r\n",
    "    for i in dice:\r\n",
    "        if dice.count(i) == 3:\r\n",
    "            prize.append(10000 + (i * 1000))\r\n",
    "        elif dice.count(i) == 2:\r\n",
    "            prize.append(1000 + (i * 100))\r\n",
    "        else:\r\n",
    "            prize.append(max(dice) * 100)\r\n",
    "print(max(prize))"
   ],
   "outputs": [],
   "metadata": {}
  }
 ],
 "metadata": {
  "language_info": {
   "name": "python"
  }
 },
 "nbformat": 4,
 "nbformat_minor": 5
}
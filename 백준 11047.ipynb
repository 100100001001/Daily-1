{
 "cells": [
  {
   "cell_type": "code",
   "execution_count": 3,
   "id": "49d741b8-fe48-43af-9bd9-1835d1b9a06d",
   "metadata": {},
   "outputs": [
    {
     "name": "stdin",
     "output_type": "stream",
     "text": [
      " 10 4200\n",
      " 1\n",
      " 5\n",
      " 10\n",
      " 50\n",
      " 100\n",
      " 500\n",
      " 1000\n",
      " 5000\n",
      " 10000\n",
      " 50000\n"
     ]
    },
    {
     "name": "stdout",
     "output_type": "stream",
     "text": [
      "4200\n"
     ]
    }
   ],
   "source": [
    "# 11047 동전 0 https://www.acmicpc.net/problem/11047\n",
    "\n",
    "N, K = map(int, input().split())\n",
    "\n",
    "coin_list = [ int(input()) for _ in range(N) ]\n",
    "coin_list.sort()\n",
    "cnt = 0\n",
    "\n",
    "for coin in coin_list:\n",
    "    cnt += K // coin\n",
    "    K %= coin\n",
    "    \n",
    "print(cnt)"
   ]
  },
  {
   "cell_type": "code",
   "execution_count": null,
   "id": "95b5ef9d-6a2a-4de8-8e43-1d9a6e3d2d3d",
   "metadata": {},
   "outputs": [],
   "source": []
  }
 ],
 "metadata": {
  "kernelspec": {
   "display_name": "Python 3",
   "language": "python",
   "name": "python3"
  },
  "language_info": {
   "codemirror_mode": {
    "name": "ipython",
    "version": 3
   },
   "file_extension": ".py",
   "mimetype": "text/x-python",
   "name": "python",
   "nbconvert_exporter": "python",
   "pygments_lexer": "ipython3",
   "version": "3.8.8"
  }
 },
 "nbformat": 4,
 "nbformat_minor": 5
}

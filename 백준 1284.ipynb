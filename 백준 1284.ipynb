{
 "cells": [
  {
   "cell_type": "code",
   "execution_count": null,
   "id": "3c993fc2-ed2a-4fe3-947c-b0ea58eaaba8",
   "metadata": {},
   "outputs": [],
   "source": [
    "# 1284 집 주소 https://www.acmicpc.net/problem/1284\n",
    "\n",
    "while True:\n",
    "    n = input()\n",
    "    space = len(n) + 1\n",
    "    for i in n: \n",
    "        if i == '1':\n",
    "            space += 2 \n",
    "        elif i == '0':\n",
    "            space += 4\n",
    "        else:\n",
    "            space += 3\n",
    "    if n == '0':\n",
    "        break\n",
    "    print(space)"
   ]
  }
 ],
 "metadata": {
  "kernelspec": {
   "display_name": "Python 3",
   "language": "python",
   "name": "python3"
  },
  "language_info": {
   "codemirror_mode": {
    "name": "ipython",
    "version": 3
   },
   "file_extension": ".py",
   "mimetype": "text/x-python",
   "name": "python",
   "nbconvert_exporter": "python",
   "pygments_lexer": "ipython3",
   "version": "3.8.8"
  }
 },
 "nbformat": 4,
 "nbformat_minor": 5
}

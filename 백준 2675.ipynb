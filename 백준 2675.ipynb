{
 "cells": [
  {
   "cell_type": "code",
   "execution_count": 1,
   "id": "691b30d9-bb1c-4573-80f5-76d7de62ab54",
   "metadata": {},
   "outputs": [
    {
     "name": "stdin",
     "output_type": "stream",
     "text": [
      " 2\n",
      " 3 ABC\n"
     ]
    },
    {
     "name": "stdout",
     "output_type": "stream",
     "text": [
      "AAABBBCCC\n"
     ]
    },
    {
     "name": "stdin",
     "output_type": "stream",
     "text": [
      " 5 /HTP\n"
     ]
    },
    {
     "name": "stdout",
     "output_type": "stream",
     "text": [
      "/////HHHHHTTTTTPPPPP\n"
     ]
    }
   ],
   "source": [
    "# 2675 문자열 반복 https://www.acmicpc.net/problem/2675\n",
    "\n",
    "N = int(input()) # 테스트 케이스의 개수 입력\n",
    "\n",
    "for i in range(N): # 테스트 케이스 개수만큼 반복\n",
    "    num, string = input().split() # 반복 횟수와 문자열 입력\n",
    "\n",
    "    for i in string: # 문자열을 하나씩 꺼내옴\n",
    "        string_new = int(num) * i # 반복 횟수와 곱해줌\n",
    "        print(string_new, end='') # 한 줄 입력\n",
    "    print() # 줄 넘김"
   ]
  }
 ],
 "metadata": {
  "kernelspec": {
   "display_name": "Python 3",
   "language": "python",
   "name": "python3"
  },
  "language_info": {
   "codemirror_mode": {
    "name": "ipython",
    "version": 3
   },
   "file_extension": ".py",
   "mimetype": "text/x-python",
   "name": "python",
   "nbconvert_exporter": "python",
   "pygments_lexer": "ipython3",
   "version": "3.8.8"
  }
 },
 "nbformat": 4,
 "nbformat_minor": 5
}

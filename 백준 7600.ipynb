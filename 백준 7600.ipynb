{
 "cells": [
  {
   "cell_type": "code",
   "execution_count": 1,
   "id": "8fcdd911-2b2a-4db6-8491-f9b1610ca14c",
   "metadata": {},
   "outputs": [
    {
     "name": "stdin",
     "output_type": "stream",
     "text": [
      " The quick brown fox jumped over the lazy dogs.\n"
     ]
    },
    {
     "name": "stdout",
     "output_type": "stream",
     "text": [
      "26\n"
     ]
    },
    {
     "name": "stdin",
     "output_type": "stream",
     "text": [
      " 2 + 2 = 4\n"
     ]
    },
    {
     "name": "stdout",
     "output_type": "stream",
     "text": [
      "0\n"
     ]
    },
    {
     "name": "stdin",
     "output_type": "stream",
     "text": [
      " New Zealand Programming Contest.\n"
     ]
    },
    {
     "name": "stdout",
     "output_type": "stream",
     "text": [
      "16\n"
     ]
    },
    {
     "name": "stdin",
     "output_type": "stream",
     "text": [
      " #\n"
     ]
    }
   ],
   "source": [
    "# 7600 문자가 몇갤까 https://www.acmicpc.net/problem/7600\n",
    "import string\n",
    "alphabet = string.ascii_lowercase # 소문자를 alphabet에 저장해줌\n",
    "\n",
    "while True:\n",
    "    sentence = input().lower()\n",
    "    cnt = 0\n",
    "    \n",
    "    if sentence == '#':\n",
    "        break\n",
    "        \n",
    "    else:\n",
    "        for i in alphabet:\n",
    "            if i in sentence:\n",
    "                cnt += 1\n",
    "        print(cnt)"
   ]
  },
  {
   "cell_type": "code",
   "execution_count": null,
   "id": "3f0fb980-5cea-4bdd-8b5d-c7fb5fae2932",
   "metadata": {},
   "outputs": [],
   "source": []
  }
 ],
 "metadata": {
  "kernelspec": {
   "display_name": "Python 3",
   "language": "python",
   "name": "python3"
  },
  "language_info": {
   "codemirror_mode": {
    "name": "ipython",
    "version": 3
   },
   "file_extension": ".py",
   "mimetype": "text/x-python",
   "name": "python",
   "nbconvert_exporter": "python",
   "pygments_lexer": "ipython3",
   "version": "3.8.8"
  }
 },
 "nbformat": 4,
 "nbformat_minor": 5
}

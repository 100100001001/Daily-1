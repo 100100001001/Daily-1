{
 "cells": [
  {
   "cell_type": "code",
   "execution_count": 3,
   "id": "29853679-c93d-4013-9459-432d88f072c0",
   "metadata": {},
   "outputs": [
    {
     "name": "stdin",
     "output_type": "stream",
     "text": [
      " 3\n",
      " 1\n",
      " 0\n",
      " 0\n"
     ]
    },
    {
     "name": "stdout",
     "output_type": "stream",
     "text": [
      "Junhee is not cute!\n"
     ]
    }
   ],
   "source": [
    "# 10886 0 = not cute / 1 = cute https://www.acmicpc.net/problem/10886\n",
    "\n",
    "n = int(input())\n",
    "nn = []\n",
    "\n",
    "for _ in range(n):\n",
    "    nn.append(int(input()))\n",
    "    \n",
    "if nn.count(0) > nn.count(1) :\n",
    "    print('Junhee is not cute!')\n",
    "else:\n",
    "    print(\"Junhee is cute!\")"
   ]
  }
 ],
 "metadata": {
  "kernelspec": {
   "display_name": "Python 3",
   "language": "python",
   "name": "python3"
  },
  "language_info": {
   "codemirror_mode": {
    "name": "ipython",
    "version": 3
   },
   "file_extension": ".py",
   "mimetype": "text/x-python",
   "name": "python",
   "nbconvert_exporter": "python",
   "pygments_lexer": "ipython3",
   "version": "3.8.8"
  }
 },
 "nbformat": 4,
 "nbformat_minor": 5
}

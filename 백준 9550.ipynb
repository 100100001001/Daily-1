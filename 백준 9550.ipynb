{
 "cells": [
  {
   "cell_type": "code",
   "execution_count": 11,
   "id": "5b9eb9cc-f0e0-4d22-bfea-e7317b6f6605",
   "metadata": {},
   "outputs": [
    {
     "name": "stdin",
     "output_type": "stream",
     "text": [
      " 2\n",
      " 3 2\n",
      " 4 5 7\n"
     ]
    },
    {
     "name": "stdout",
     "output_type": "stream",
     "text": [
      "7\n"
     ]
    },
    {
     "name": "stdin",
     "output_type": "stream",
     "text": [
      " 3 8\n",
      " 4 5 7\n"
     ]
    },
    {
     "name": "stdout",
     "output_type": "stream",
     "text": [
      "0\n"
     ]
    }
   ],
   "source": [
    "# 9550 아이들은 사탕을 좋아해 https://www.acmicpc.net/problem/9550\n",
    "\n",
    "'''아이들은 항상 한 종류의 사탕만을 먹고 싶어한다.\n",
    "게다가, 한 종류의 사탕을 최소한 K개 이상 먹어야만 행복해한다.'''\n",
    "\n",
    "t = int(input())\n",
    "\n",
    "for _ in range(t):\n",
    "    n, k = map(int, input().split())\n",
    "    candy = map(int, input().split())\n",
    "    \n",
    "    cnt = 0\n",
    "\n",
    "    for i in candy:\n",
    "        cnt += i // k\n",
    "    \n",
    "    print(cnt)"
   ]
  },
  {
   "cell_type": "code",
   "execution_count": null,
   "id": "4a6b280f-99e8-44c2-a6a3-1963732064f3",
   "metadata": {},
   "outputs": [],
   "source": []
  }
 ],
 "metadata": {
  "kernelspec": {
   "display_name": "Python 3",
   "language": "python",
   "name": "python3"
  },
  "language_info": {
   "codemirror_mode": {
    "name": "ipython",
    "version": 3
   },
   "file_extension": ".py",
   "mimetype": "text/x-python",
   "name": "python",
   "nbconvert_exporter": "python",
   "pygments_lexer": "ipython3",
   "version": "3.8.8"
  }
 },
 "nbformat": 4,
 "nbformat_minor": 5
}

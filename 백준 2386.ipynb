{
 "cells": [
  {
   "cell_type": "code",
   "execution_count": null,
   "id": "e9e3b384-2997-46aa-a8a5-761a153370ba",
   "metadata": {},
   "outputs": [
    {
     "name": "stdin",
     "output_type": "stream",
     "text": [
      " g Programming Contest\n"
     ]
    },
    {
     "name": "stdout",
     "output_type": "stream",
     "text": [
      "g 2\n"
     ]
    }
   ],
   "source": [
    "while True:\n",
    "    alphabet_sentence = input().lower()\n",
    "    alphabet = alphabet_sentence[0]\n",
    "    if alphabet_sentence == '#':\n",
    "        break\n",
    "        \n",
    "    print(alphabet, alphabet_sentence.count(alphabet) -1)"
   ]
  },
  {
   "cell_type": "code",
   "execution_count": null,
   "id": "fe22e8bf-a3d5-4fd6-b108-4990858cfe78",
   "metadata": {},
   "outputs": [],
   "source": []
  }
 ],
 "metadata": {
  "kernelspec": {
   "display_name": "Python 3",
   "language": "python",
   "name": "python3"
  },
  "language_info": {
   "codemirror_mode": {
    "name": "ipython",
    "version": 3
   },
   "file_extension": ".py",
   "mimetype": "text/x-python",
   "name": "python",
   "nbconvert_exporter": "python",
   "pygments_lexer": "ipython3",
   "version": "3.8.8"
  }
 },
 "nbformat": 4,
 "nbformat_minor": 5
}

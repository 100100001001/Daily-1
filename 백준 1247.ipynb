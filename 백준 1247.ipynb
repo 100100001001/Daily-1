{
 "cells": [
  {
   "cell_type": "code",
   "execution_count": null,
   "source": [
    "import sys\r\n",
    "\r\n",
    "for _ in range(3):\r\n",
    "    n = int(sys.stdin.readline())\r\n",
    "    nn = [int(sys.stdin.readline()) for i in range(n)]\r\n",
    "    if sum(nn) == 0:\r\n",
    "        print(\"0\")\r\n",
    "    elif sum(nn) > 0 :\r\n",
    "        print(\"+\")\r\n",
    "    else:\r\n",
    "        print(\"-\")"
   ],
   "outputs": [],
   "metadata": {}
  }
 ],
 "metadata": {
  "language_info": {
   "name": "python",
   "version": "3.7.7",
   "mimetype": "text/x-python",
   "codemirror_mode": {
    "name": "ipython",
    "version": 3
   },
   "pygments_lexer": "ipython3",
   "nbconvert_exporter": "python",
   "file_extension": ".py"
  },
  "kernelspec": {
   "name": "python3",
   "display_name": "Python 3.7.7 64-bit"
  },
  "interpreter": {
   "hash": "f11cfeda00aeb34cf19cf102efc18749525e26452308477c449f8824c9dd043d"
  }
 },
 "nbformat": 4,
 "nbformat_minor": 5
}
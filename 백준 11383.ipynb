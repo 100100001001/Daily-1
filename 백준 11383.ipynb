{
 "cells": [
  {
   "cell_type": "code",
   "execution_count": 22,
   "id": "35ff5fbe-c929-40f5-b94d-9cc358460925",
   "metadata": {},
   "outputs": [
    {
     "name": "stdin",
     "output_type": "stream",
     "text": [
      " 1 5\n",
      " abcde\n",
      " aabbccddee\n"
     ]
    },
    {
     "name": "stdout",
     "output_type": "stream",
     "text": [
      "Eyfa\n"
     ]
    }
   ],
   "source": [
    "# 뚊 11383 https://www.acmicpc.net/problem/11383\n",
    "\n",
    "n, m = map(int, input().split())\n",
    "\n",
    "origin = [ input() for _ in range(n) ]\n",
    "compare = [ input() for _ in range(n) ]\n",
    "\n",
    "n2_lst = []\n",
    "\n",
    "for element in origin:\n",
    "    string = ''\n",
    "    for i in element: \n",
    "        string += i*2 \n",
    "    n2_lst.append(string)\n",
    "    \n",
    "cnt = 0\n",
    "\n",
    "for i in range(n):\n",
    "    if n2_lst[i] == compare[i]:\n",
    "        cnt += 1\n",
    "\n",
    "if n == cnt:\n",
    "    print(\"Eyfa\")\n",
    "    \n",
    "else:\n",
    "    print(\"Not Eyfa\")"
   ]
  }
 ],
 "metadata": {
  "kernelspec": {
   "display_name": "Python 3",
   "language": "python",
   "name": "python3"
  },
  "language_info": {
   "codemirror_mode": {
    "name": "ipython",
    "version": 3
   },
   "file_extension": ".py",
   "mimetype": "text/x-python",
   "name": "python",
   "nbconvert_exporter": "python",
   "pygments_lexer": "ipython3",
   "version": "3.8.8"
  }
 },
 "nbformat": 4,
 "nbformat_minor": 5
}

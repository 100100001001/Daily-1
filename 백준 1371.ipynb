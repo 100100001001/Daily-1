{
 "cells": [
  {
   "cell_type": "code",
   "execution_count": null,
   "source": [
    "import sys\r\n",
    "\r\n",
    "sentence = sys.stdin.read()\r\n",
    "alphabet = \"abcdefghijklmnopqrstuvwxyz\"\r\n",
    "dic = {}\r\n",
    "result = ''\r\n",
    "\r\n",
    "for i in alphabet:\r\n",
    "    dic[i] = sentence.count(i)\r\n",
    "\r\n",
    "for key, value in dic.items():\r\n",
    "    if value == max(dic.values()):\r\n",
    "        result += key\r\n",
    "\r\n",
    "print(result)"
   ],
   "outputs": [],
   "metadata": {}
  }
 ],
 "metadata": {
  "language_info": {
   "name": "python"
  }
 },
 "nbformat": 4,
 "nbformat_minor": 5
}